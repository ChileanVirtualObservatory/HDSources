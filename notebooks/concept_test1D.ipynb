{
 "cells": [
  {
   "cell_type": "code",
   "execution_count": 44,
   "metadata": {
    "collapsed": false
   },
   "outputs": [],
   "source": [
    "%matplotlib inline\n",
    "\n",
    "import sys\n",
    "import numpy as np\n",
    "import scipy as sp\n",
    "import sympy as sym\n",
    "import numexpr as ne\n",
    "import matplotlib.pyplot as plt\n",
    "\n",
    "#import of acalib helper functions\n",
    "sys.path.append('../../ACALIB/')\n",
    "from acalib import acontainer as ac"
   ]
  },
  {
   "cell_type": "markdown",
   "metadata": {},
   "source": [
    "Given the following functional: \n",
    "\n",
    "$$J(u) = \\int_{\\Omega \\subset \\mathbb{R}} L(x, u, u_x) \\ dx  = \\int_{\\Omega \\subset \\mathbb{R}}(u(x)-f_0(x))^2 + \\alpha \\ \\Psi_1(u(x)-f_0(x)) + \\beta \\ \\Psi_2(|u'(x)|) \\ dx $$\n",
    "\n",
    "then when we try to minimize it, the corresponding Euler-Lagrange equation becomes:\n",
    "\n",
    "$$\\frac{\\partial L}{\\partial u}-\\frac{d}{dx}\\frac{\\partial L}{\\partial u_x} =  2(u(x)-f_0(x)) + \\alpha \\ \\Psi_1'(u(x)-f_0(x)) - \\beta \\ u_{xx}(x) \\ \\Psi_2''(|u_{x}(x)|)$$\n",
    "\n",
    "the proposed solution has the form of a linear combination of Gaussian functions:\n",
    "\n",
    "$$u(x) = \\sum_{i=1}^N c_i \\ \\phi(x; x_i, \\sigma_i) = \\sum_{i=1}^N c_i \\ e^{-\\frac{(x-x_i)^2}{2 \\sigma_i^2}}$$"
   ]
  },
  {
   "cell_type": "code",
   "execution_count": 30,
   "metadata": {
    "collapsed": false
   },
   "outputs": [
    {
     "name": "stdout",
     "output_type": "stream",
     "text": [
      "INFO: Processing HDU 0 (Image) [acalib.io.formats]\n",
      "INFO: 4D data detected: assuming RA-DEC-FREQ-STOKES (like CASA-generated ones), and dropping STOKES [acalib.io.formats]\n"
     ]
    }
   ],
   "source": [
    "\"\"\"\n",
    "Loading data\n",
    "\"\"\"\n",
    "cont = ac.AContainer()\n",
    "#cont.load('../../bindata/fits/cubes/Antennae_North.CO3_2Line.Clean.pcal1.image.fits')\n",
    "#cont.load('../../bindata/fits/cubes/Antennae_South.CO3_2Line.Clean.pcal1.image.fits')\n",
    "#cont.load('../../bindata/fits/cubes/CenA.CO2_1Line.Clean.image.fits')\n",
    "cont.load('../../bindata/fits/cubes/M100line.image.fits')\n",
    "#cont.load('../../bindata/fits/cubes/Orion.methanol.cbc.contsub.image.fits')\n",
    "\n",
    "cube = cont.primary\n",
    "spar = cube.standarize()\n",
    "data = cube.data"
   ]
  },
  {
   "cell_type": "code",
   "execution_count": 45,
   "metadata": {
    "collapsed": false
   },
   "outputs": [],
   "source": [
    "\"\"\"\n",
    "Generating the data function\n",
    "\"\"\"\n",
    "f_data = data[:,300,300]\n",
    "x = np.linspace(0., 1., len(f_data), endpoint=True)\n",
    "f = sp.interpolate.interp1d(x, f_data, kind='quadratic')"
   ]
  },
  {
   "cell_type": "code",
   "execution_count": 51,
   "metadata": {
    "collapsed": false
   },
   "outputs": [
    {
     "data": {
      "image/png": "[encoded data removed]",
      "text/plain": [
       "<matplotlib.figure.Figure at 0x7f382b652ad0>"
      ]
     },
     "metadata": {},
     "output_type": "display_data"
    }
   ],
   "source": [
    "plt.figure(figsize=(10,6))\n",
    "plt.plot(x, f_data, '-')\n",
    "plt.title('Spectrum distribution')\n",
    "plt.xlabel('Freq')\n",
    "plt.ylabel('Intensity')\n",
    "plt.show()"
   ]
  },
  {
   "cell_type": "code",
   "execution_count": 52,
   "metadata": {
    "collapsed": false
   },
   "outputs": [],
   "source": [
    "#setting parameters\n",
    "a = 0.01\n",
    "b = 1.\n",
    "N = 20\n",
    "\n",
    "z = sym.Symbol('z')\n",
    "\n",
    "#Penalizing function and its derivatives\n",
    "psi1 = sym.exp(z)\n",
    "d1psi1 = sym.diff(psi1, z)\n",
    "d1psi1 = sym.lambdify(z, d1psi1, modules='numpy')\n",
    "\n",
    "#Smoothing function and its derivatives\n",
    "lamb = 0.5\n",
    "psi2 = 2*lamb*sym.log(1 + z**2/lamb)\n",
    "d1psi2 = sym.diff(psi2, z)\n",
    "d2psi2 = sym.diff(d1psi2, z)\n",
    "d1psi2 = sym.lambdify(z, d1psi2, modules='numpy')\n",
    "d2psi2 = sym.lambdify(z, d2psi2, modules='numpy')"
   ]
  },
  {
   "cell_type": "code",
   "execution_count": 53,
   "metadata": {
    "collapsed": true
   },
   "outputs": [],
   "source": [
    "\"\"\"\n",
    "RBF (Gaussian) functions and its derivatives\n",
    "\"\"\"\n",
    "def phi(x, sig):\n",
    "    retval = ne.evaluate('exp(-x**2/(2*sig**2))')\n",
    "    return retval\n",
    "\n",
    "def phix(x, sig):\n",
    "    retval = ne.evaluate('-(1./sig**2) * exp(-x**2/(2*sig**2)) * x')\n",
    "    return retval\n",
    "\n",
    "def phixx(x, sig):\n",
    "    retval = ne.evaluate('(1./sig**4) * exp(-x**2/(2*sig**2)) * (x**2 - sig**2)')\n",
    "    return retval"
   ]
  },
  {
   "cell_type": "code",
   "execution_count": 54,
   "metadata": {
    "collapsed": false
   },
   "outputs": [],
   "source": [
    "\"\"\" Computing collocation points \"\"\"\n",
    "xc = np.linspace(0., 1., N+1)[1::]-(1./(2.*N))\n",
    "\n",
    "\"\"\" Computing evaluation points \"\"\"\n",
    "xe = np.linspace(0., 1., 2*N, endpoint=True)\n",
    "\n",
    "\"\"\" Computing the values of f at evaluation points \"\"\"\n",
    "f0 = f(xe)\n",
    "\n",
    "\"\"\" \n",
    "Computing distance matrix.\n",
    "Note: Evaluation and collocation point will be the same\n",
    "\"\"\"\n",
    "Dx = np.empty((2*N,N))\n",
    "for k in range(2*N):\n",
    "\tDx[k,:] = (xe[k] - xc)"
   ]
  },
  {
   "cell_type": "code",
   "execution_count": 63,
   "metadata": {
    "collapsed": true
   },
   "outputs": [],
   "source": [
    "def F(X):\n",
    "    #unpacking parameters\n",
    "    N = len(X)/2\n",
    "    c = X[0:N]\n",
    "    sig = X[N:]\n",
    "    \n",
    "    #phi function's evaluation\n",
    "    phi_m   = phi(Dx, sig)\n",
    "    phix_m  = phix(Dx, sig)\n",
    "    phixx_m = phixx(Dx, sig)\n",
    "    \n",
    "    #computing the Euler-Lagrange equation\n",
    "    u   = np.dot(phi_m, c)\n",
    "    ux  = np.dot(phix_m, c)\n",
    "    uxx = np.dot(phixx_m, c)\n",
    "    return 2*(u-f0) + a*d1psi1(u-f0) - b*uxx*d2psi2(np.abs(ux))\n"
   ]
  },
  {
   "cell_type": "code",
   "execution_count": 69,
   "metadata": {
    "collapsed": false
   },
   "outputs": [],
   "source": [
    "\"\"\"\n",
    "Defining initial parameter values\n",
    "\"\"\"\n",
    "c0 = np.min(f_data)*np.ones(N)\n",
    "sig0 = (1./(6*N))*np.ones(N) #see the note\n",
    "X0 = np.concatenate([c0,sig0])"
   ]
  },
  {
   "cell_type": "markdown",
   "metadata": {},
   "source": [
    "__Note:__ $6 \\sigma \\cdot N = b-a \\rightarrow \\sigma = \\frac{b-a}{6*N}$"
   ]
  },
  {
   "cell_type": "code",
   "execution_count": 87,
   "metadata": {
    "collapsed": false
   },
   "outputs": [
    {
     "name": "stdout",
     "output_type": "stream",
     "text": [
      "c coeficients:\n",
      "[ -1.77000260e-06  -1.39095243e-06  -1.37042980e-06  -1.25279935e-06\n",
      "  -1.12516035e-08  -5.72256682e-05   5.59725407e-07   3.97197454e-07\n",
      "   2.50317279e-07   2.47787863e-07   2.48276116e-07   2.73279451e-07\n",
      "   4.45164391e-07   4.71920100e-07  -2.24559270e-06   3.62786831e-07\n",
      "  -4.92083126e-08  -6.29659938e-06  -7.26040069e-06  -5.36981844e-06]\n",
      "sigmas:\n",
      "[ 0.26800446  0.14339741  0.1103132  -0.07388839 -3.64693012  0.96566855\n",
      "  0.00689499  0.00714678  0.00615808  0.00597168  0.00600343  0.00654088\n",
      "  0.00717785  0.00652589 -0.04436632 -3.82499089 -0.61006481  0.30559781\n",
      "  0.17656558  0.66401981]\n"
     ]
    }
   ],
   "source": [
    "\"\"\"\n",
    "Solve it!\n",
    "\"\"\"\n",
    "X = sp.optimize.fsolve(F, X0)\n",
    "c = X[0:N]\n",
    "sig = X[N:]\n",
    "print(\"c coeficients:\"); print(c)\n",
    "print('sigmas:'); print(sig)"
   ]
  },
  {
   "cell_type": "code",
   "execution_count": 92,
   "metadata": {
    "collapsed": false
   },
   "outputs": [
    {
     "data": {
      "image/png": "[encoded data removed]",
      "text/plain": [
       "<matplotlib.figure.Figure at 0x7f382b652190>"
      ]
     },
     "metadata": {},
     "output_type": "display_data"
    }
   ],
   "source": [
    "\"\"\"\n",
    "Visualizing the result\n",
    "\"\"\"\n",
    "phi_m = phi(Dx, sig)\n",
    "u = np.dot(phi_m, c)\n",
    "plt.plot(xe, u)\n",
    "plt.show()"
   ]
  }
 ],
 "metadata": {
  "kernelspec": {
   "display_name": "Python 2",
   "language": "python",
   "name": "python2"
  },
  "language_info": {
   "codemirror_mode": {
    "name": "ipython",
    "version": 2
   },
   "file_extension": ".py",
   "mimetype": "text/x-python",
   "name": "python",
   "nbconvert_exporter": "python",
   "pygments_lexer": "ipython2",
   "version": "2.7.11"
  }
 },
 "nbformat": 4,
 "nbformat_minor": 0
}
