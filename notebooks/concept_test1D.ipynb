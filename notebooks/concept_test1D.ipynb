{
 "cells": [
  {
   "cell_type": "code",
   "execution_count": 2,
   "metadata": {
    "collapsed": false
   },
   "outputs": [],
   "source": [
    "%matplotlib inline\n",
    "\n",
    "import sys\n",
    "import numpy as np\n",
    "import scipy as sp\n",
    "import sympy as sym\n",
    "import numexpr as ne\n",
    "import matplotlib.pyplot as plt\n",
    "from scipy import interpolate, optimize\n",
    "\n",
    "#import of acalib helper functions\n",
    "sys.path.append('../../ACALIB/')\n",
    "from acalib import acontainer as ac"
   ]
  },
  {
   "cell_type": "markdown",
   "metadata": {},
   "source": [
    "Given the following functional: \n",
    "\n",
    "$$J(u) = \\int_{\\Omega \\subset \\mathbb{R}} L(x, u, u_x) \\ dx  = \\int_{\\Omega \\subset \\mathbb{R}}(u(x)-f_0(x))^2 + \\alpha \\ \\Psi_1(u(x)-f_0(x)) + \\beta \\ \\Psi_2(|u_x(x)|) \\ dx $$\n",
    "\n",
    "then when we try to minimize it, the corresponding Euler-Lagrange equation becomes:\n",
    "\n",
    "$$\\frac{\\partial L}{\\partial u}-\\frac{d}{dx}\\frac{\\partial L}{\\partial u_x} =  2(u(x)-f_0(x)) + \\alpha \\ \\Psi_1'(u(x)-f_0(x)) - \\beta \\ u_{xx}(x) \\ \\Psi_2''(|u_{x}(x)|) = 0$$\n",
    "\n",
    "whit boundary condition $u(\\partial \\Omega) = 0$. The proposed solution has the form of a linear combination of Gaussian functions:\n",
    "\n",
    "$$u(x) = \\sum_{i=1}^N c_i \\ \\phi(x; x_i, \\sigma_i) = \\sum_{i=1}^N c_i \\ e^{-\\frac{(x-x_i)^2}{2 \\sigma_i^2}}$$"
   ]
  },
  {
   "cell_type": "code",
   "execution_count": 4,
   "metadata": {
    "collapsed": false
   },
   "outputs": [
    {
     "name": "stdout",
     "output_type": "stream",
     "text": [
      "INFO: Processing HDU 0 (Image) [acalib.io.formats]\n",
      "INFO: 4D data detected: assuming RA-DEC-FREQ-STOKES (like CASA-generated ones), and dropping STOKES [acalib.io.formats]\n"
     ]
    }
   ],
   "source": [
    "\"\"\"\n",
    "Loading data\n",
    "\"\"\"\n",
    "cont = ac.AContainer()\n",
    "#cont.load('../../bindata/fits/cubes/Antennae_North.CO3_2Line.Clean.pcal1.image.fits')\n",
    "#cont.load('../../bindata/fits/cubes/Antennae_South.CO3_2Line.Clean.pcal1.image.fits')\n",
    "#cont.load('../../bindata/fits/cubes/CenA.CO2_1Line.Clean.image.fits')\n",
    "cont.load('../../bindata/fits/cubes/M100line.image.fits')\n",
    "#cont.load('../../bindata/fits/cubes/Orion.methanol.cbc.contsub.image.fits')\n",
    "\n",
    "cube = cont.primary\n",
    "spar = cube.standarize()\n",
    "data = cube.data"
   ]
  },
  {
   "cell_type": "code",
   "execution_count": 5,
   "metadata": {
    "collapsed": false
   },
   "outputs": [],
   "source": [
    "\"\"\"\n",
    "Generating the data function\n",
    "\"\"\"\n",
    "f_data = data[:,300,300]\n",
    "x = np.linspace(0., 1., len(f_data), endpoint=True)\n",
    "f = sp.interpolate.interp1d(x, f_data, kind='linear')\n",
    "x_ = np.linspace(0., 1., 10*len(f_data), endpoint=True)"
   ]
  },
  {
   "cell_type": "code",
   "execution_count": 6,
   "metadata": {
    "collapsed": false
   },
   "outputs": [
    {
     "data": {
      "image/png": "[encoded data removed]",
      "text/plain": [
       "<matplotlib.figure.Figure at 0x7f39f3675ad0>"
      ]
     },
     "metadata": {},
     "output_type": "display_data"
    }
   ],
   "source": [
    "plt.figure(figsize=(10,6))\n",
    "plt.plot(x, f_data, 'bo', x_, f(x_), 'r--')\n",
    "plt.title('Spectrum Distribution')\n",
    "plt.xlabel('Freq')\n",
    "plt.ylabel('Intensity')\n",
    "plt.show()"
   ]
  },
  {
   "cell_type": "code",
   "execution_count": 7,
   "metadata": {
    "collapsed": false
   },
   "outputs": [],
   "source": [
    "#setting parameters\n",
    "a = 0.001\n",
    "b = 0.1\n",
    "N = 20\n",
    "\n",
    "z = sym.Symbol('z')\n",
    "\n",
    "#Penalizing function and its derivatives\n",
    "psi1 = sym.exp(z)\n",
    "d1psi1 = sym.diff(psi1, z)\n",
    "d1psi1 = sym.lambdify(z, d1psi1, modules='numpy')\n",
    "\n",
    "#Smoothing function and its derivatives\n",
    "lamb = 0.5\n",
    "#psi2 = 2*lamb*sym.log(1 + z**2/lamb)\n",
    "psi2 = z**3\n",
    "d1psi2 = sym.diff(psi2, z)\n",
    "d2psi2 = sym.diff(d1psi2, z)\n",
    "d1psi2 = sym.lambdify(z, d1psi2, modules='numpy')\n",
    "d2psi2 = sym.lambdify(z, d2psi2, modules='numpy')"
   ]
  },
  {
   "cell_type": "code",
   "execution_count": 8,
   "metadata": {
    "collapsed": true
   },
   "outputs": [],
   "source": [
    "\"\"\"\n",
    "RBF (Gaussian) functions and its derivatives\n",
    "\"\"\"\n",
    "def phi(x, sig):\n",
    "    retval = ne.evaluate('exp(-x**2/(2*sig**2))')\n",
    "    #retval = np.exp(-x**2/(2*sig**2))\n",
    "    return retval\n",
    "\n",
    "def phix(x, sig):\n",
    "    retval = ne.evaluate('-(1./sig**2) * exp(-x**2/(2*sig**2)) * x')\n",
    "    #retval = -(1./sig**2) * np.exp(-x**2/(2*sig**2)) * x\n",
    "    return retval\n",
    "\n",
    "def phixx(x, sig):\n",
    "    retval = ne.evaluate('(1./sig**4) * exp(-x**2/(2*sig**2)) * (x**2 - sig**2)')\n",
    "    #retval = (1./sig**4) * np.exp(-x**2/(2*sig**2)) * (x**2 - sig**2)\n",
    "    return retval"
   ]
  },
  {
   "cell_type": "code",
   "execution_count": 9,
   "metadata": {
    "collapsed": false
   },
   "outputs": [
    {
     "name": "stdout",
     "output_type": "stream",
     "text": [
      "[ 0.025  0.075  0.125  0.175  0.225  0.275  0.325  0.375  0.425  0.475\n",
      "  0.525  0.575  0.625  0.675  0.725  0.775  0.825  0.875  0.925  0.975]\n",
      "[ 0.          0.02564103  0.05128205  0.07692308  0.1025641   0.12820513\n",
      "  0.15384615  0.17948718  0.20512821  0.23076923  0.25641026  0.28205128\n",
      "  0.30769231  0.33333333  0.35897436  0.38461538  0.41025641  0.43589744\n",
      "  0.46153846  0.48717949  0.51282051  0.53846154  0.56410256  0.58974359\n",
      "  0.61538462  0.64102564  0.66666667  0.69230769  0.71794872  0.74358974\n",
      "  0.76923077  0.79487179  0.82051282  0.84615385  0.87179487  0.8974359\n",
      "  0.92307692  0.94871795  0.97435897  1.        ]\n"
     ]
    }
   ],
   "source": [
    "\"\"\" Computing collocation points \"\"\"\n",
    "xc = np.linspace(0., 1., N+1)[1::]-(1./(2.*N))\n",
    "print(xc)\n",
    "\n",
    "\"\"\" Computing evaluation points \"\"\"\n",
    "xe = np.linspace(0., 1., 2*N, endpoint=True)\n",
    "print(xe)\n",
    "\n",
    "\"\"\" Computing the values of f at evaluation points \"\"\"\n",
    "f0 = f(xe)\n",
    "\n",
    "\"\"\" \n",
    "Computing distance matrix.\n",
    "Note: Evaluation and collocation points will be the same\n",
    "\"\"\"\n",
    "Dx = np.empty((2*N,N))\n",
    "for k in range(2*N):\n",
    "\tDx[k,:] = (xe[k] - xc)"
   ]
  },
  {
   "cell_type": "code",
   "execution_count": 10,
   "metadata": {
    "collapsed": true
   },
   "outputs": [],
   "source": [
    "def F(X):\n",
    "    #unpacking parameters\n",
    "    N = len(X)/2\n",
    "    c = X[0:N]\n",
    "    sig = X[N:]\n",
    "    \n",
    "    #quiting borders\n",
    "    _Dx = Dx[1:-1]\n",
    "    _f0 = f0[1:-1]\n",
    "    \n",
    "    #phi function's evaluation\n",
    "    phi_m   = phi(_Dx, sig)\n",
    "    phix_m  = phix(_Dx, sig)\n",
    "    phixx_m = phixx(_Dx, sig)\n",
    "    \n",
    "    #computing the Euler-Lagrange equation\n",
    "    u   = np.dot(phi_m, c)\n",
    "    ux  = np.dot(phix_m, c)\n",
    "    uxx = np.dot(phixx_m, c)\n",
    "    el = 2.*(u-_f0) + a*d1psi1(u-_f0) - b*uxx*d2psi2(np.abs(ux))\n",
    "    \n",
    "    #evaluating at boundary\n",
    "    bc = [np.dot(phi(-xc,sig),c), np.dot(phi(1.-xc,sig),c)]\n",
    "    return np.concatenate([el,bc])"
   ]
  },
  {
   "cell_type": "code",
   "execution_count": 16,
   "metadata": {
    "collapsed": false
   },
   "outputs": [],
   "source": [
    "\"\"\"\n",
    "Defining initial parameter values\n",
    "\"\"\"\n",
    "c0 = np.min(f_data)*np.ones(N)\n",
    "sig0 = (1./(N))*np.ones(N)\n",
    "X0 = np.concatenate([c0,sig0])"
   ]
  },
  {
   "cell_type": "code",
   "execution_count": 18,
   "metadata": {
    "collapsed": false
   },
   "outputs": [
    {
     "data": {
      "image/png": "[encoded data removed]",
      "text/plain": [
       "<matplotlib.figure.Figure at 0x7f39f27f2350>"
      ]
     },
     "metadata": {},
     "output_type": "display_data"
    }
   ],
   "source": [
    "\"\"\"\n",
    "Visualizing the 'initial' solution\n",
    "\"\"\"\n",
    "phi_m0 = phi(Dx, sig0)\n",
    "u0 = np.dot(phi_m0, c0)\n",
    "plt.figure(figsize=(10,6))\n",
    "plt.plot(xe, u0, 'ro', xe, u0, 'r--')\n",
    "plt.show()"
   ]
  },
  {
   "cell_type": "code",
   "execution_count": 19,
   "metadata": {
    "collapsed": false
   },
   "outputs": [
    {
     "name": "stdout",
     "output_type": "stream",
     "text": [
      "c coeficients:\n",
      "[ -4.86833712e-05  -3.84970087e-06  -1.41456598e-05   1.91807239e-06\n",
      "   4.51722233e-06  -2.35481415e-05  -1.20936580e-05   3.50684527e-06\n",
      "  -1.22470969e-05  -3.36212798e-05  -3.85319071e-05  -4.05041041e-05\n",
      "  -6.28726845e-05  -5.90716739e-05  -3.85398160e-05   6.48945992e-07\n",
      "  -5.73057342e-06  -5.69078044e-05  -7.51179894e-06  -6.08098264e-05]\n",
      "sigmas:\n",
      "[-30.30066755  -2.55713835  -4.00814374 -16.53631795 -23.77385024\n",
      "  -0.64710778  -0.55649655  -5.21711465  -0.42628706   1.169905    -9.868517\n",
      "  -0.73606083   1.33219828   1.01607494   4.07005934   0.98512238\n",
      "  -8.78381927 -18.69750065 -13.31310932  -6.98799678]\n"
     ]
    }
   ],
   "source": [
    "\"\"\"\n",
    "Solve it!\n",
    "\"\"\"\n",
    "X = sp.optimize.fsolve(F, X0)\n",
    "c = X[0:N]\n",
    "sig = X[N:]\n",
    "print(\"c coeficients:\"); print(c)\n",
    "print('sigmas:'); print(sig)"
   ]
  },
  {
   "cell_type": "code",
   "execution_count": 20,
   "metadata": {
    "collapsed": false
   },
   "outputs": [
    {
     "data": {
      "image/png": "[encoded data removed]",
      "text/plain": [
       "<matplotlib.figure.Figure at 0x7f39f2690110>"
      ]
     },
     "metadata": {},
     "output_type": "display_data"
    }
   ],
   "source": [
    "\"\"\"\n",
    "Visualizing the result\n",
    "\"\"\"\n",
    "phi_m = phi(Dx, sig)\n",
    "u = np.dot(phi_m, c)\n",
    "plt.figure(figsize=(10,6))\n",
    "plt.plot(xe, u, 'bo', xe, u, 'b--')\n",
    "plt.show()"
   ]
  },
  {
   "cell_type": "code",
   "execution_count": null,
   "metadata": {
    "collapsed": true
   },
   "outputs": [],
   "source": []
  }
 ],
 "metadata": {
  "kernelspec": {
   "display_name": "Python 2",
   "language": "python",
   "name": "python2"
  },
  "language_info": {
   "codemirror_mode": {
    "name": "ipython",
    "version": 2
   },
   "file_extension": ".py",
   "mimetype": "text/x-python",
   "name": "python",
   "nbconvert_exporter": "python",
   "pygments_lexer": "ipython2",
   "version": "2.7.11"
  }
 },
 "nbformat": 4,
 "nbformat_minor": 0
}
