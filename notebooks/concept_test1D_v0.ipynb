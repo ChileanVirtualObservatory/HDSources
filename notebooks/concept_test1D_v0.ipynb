{
 "cells": [
  {
   "cell_type": "markdown",
   "metadata": {},
   "source": [
    "# VarClump1D: Concept test\n",
    "## _Variating $c$ and $\\sigma$ together..._"
   ]
  },
  {
   "cell_type": "code",
   "execution_count": 25,
   "metadata": {
    "collapsed": false
   },
   "outputs": [],
   "source": [
    "%matplotlib inline\n",
    "\n",
    "import sys\n",
    "import numpy as np\n",
    "import scipy as sp\n",
    "import sympy as sym\n",
    "import numexpr as ne\n",
    "import matplotlib.pyplot as plt\n",
    "from scipy import interpolate, optimize\n",
    "\n",
    "#import of acalib helper functions\n",
    "sys.path.append('../../ACALIB/')\n",
    "from acalib import acontainer as ac"
   ]
  },
  {
   "cell_type": "code",
   "execution_count": 26,
   "metadata": {
    "collapsed": false
   },
   "outputs": [
    {
     "ename": "ImportError",
     "evalue": "No module named mkl",
     "output_type": "error",
     "traceback": [
      "\u001b[1;31m---------------------------------------------------------------------------\u001b[0m",
      "\u001b[1;31mImportError\u001b[0m                               Traceback (most recent call last)",
      "\u001b[1;32m<ipython-input-26-a0bd14a607ee>\u001b[0m in \u001b[0;36m<module>\u001b[1;34m()\u001b[0m\n\u001b[1;32m----> 1\u001b[1;33m \u001b[1;32mimport\u001b[0m \u001b[0mmkl\u001b[0m\u001b[1;33m\u001b[0m\u001b[0m\n\u001b[0m",
      "\u001b[1;31mImportError\u001b[0m: No module named mkl"
     ]
    }
   ],
   "source": [
    "import mkl"
   ]
  },
  {
   "cell_type": "markdown",
   "metadata": {},
   "source": [
    "## Helper functions"
   ]
  },
  {
   "cell_type": "code",
   "execution_count": 2,
   "metadata": {
    "collapsed": true
   },
   "outputs": [],
   "source": [
    "\"\"\"\n",
    "Helper functions to visualize the quality of the solution\n",
    "\"\"\"\n",
    "def compare_plot(c, sig, xc, resolution=10, title=None, log=False):\n",
    "    _xe = np.linspace(0., 1., 10*N, endpoint=True)\n",
    "    _Dx = np.empty((10*N,N))\n",
    "    for k in range(10*N):\n",
    "        _Dx[k,:] = (_xe[k] - xc)\n",
    "\n",
    "    phi_m = phi(_Dx, sig)\n",
    "    u = np.dot(phi_m, c**2)\n",
    "    plt.figure(figsize=(10,6))\n",
    "    plt.plot(_xe, u, 'r-', label='Solution')\n",
    "    plt.plot(x_, f(x_), 'b--', label='Data')\n",
    "    plt.plot(xe, f(xe), 'go', label='Evaluation points')\n",
    "    plt.title(title)\n",
    "    plt.legend(bbox_to_anchor=(1.3, 1.0))\n",
    "    plt.show()\n",
    "\n",
    "def compare_plot_log(c, sig, xc, resolution=10, title=None):\n",
    "    _xe = np.linspace(0., 1., 10*N, endpoint=True)\n",
    "    _Dx = np.empty((10*N,N))\n",
    "    for k in range(10*N):\n",
    "        _Dx[k,:] = (_xe[k] - xc)\n",
    "\n",
    "    phi_m = phi(_Dx, sig)\n",
    "    u = np.dot(phi_m, c**2)\n",
    "    plt.figure(figsize=(10,6))\n",
    "    plt.semilogy(_xe, np.abs(u-f(_xe)), 'r-')\n",
    "    plt.title(title)\n",
    "    plt.show()"
   ]
  },
  {
   "cell_type": "markdown",
   "metadata": {},
   "source": [
    "## Variational Model"
   ]
  },
  {
   "cell_type": "markdown",
   "metadata": {},
   "source": [
    "Given the following functional: \n",
    "\n",
    "$$J(u) = \\int_{\\Omega \\subset \\mathbb{R}} L(x, u, u_x) \\ dx  = \\int_{\\Omega \\subset \\mathbb{R}}(u(x)-f_0(x))^2 + \\alpha \\ \\Psi_1(u(x)-f_0(x)) + \\beta \\ \\Psi_2(|u_x(x)|) \\ dx $$\n",
    "\n",
    "then when we try to minimize it, the corresponding Euler-Lagrange equation becomes:\n",
    "\n",
    "$$\\frac{\\partial L}{\\partial u}-\\frac{d}{dx}\\frac{\\partial L}{\\partial u_x} =  2(u(x)-f_0(x)) + \\alpha \\ \\Psi_1'(u(x)-f_0(x)) - \\beta \\ u_{xx}(x) \\ \\Psi_2''(|u_{x}(x)|) = 0$$\n",
    "\n",
    "whit boundary condition $u(\\partial \\Omega) = f(\\partial \\Omega)$. The proposed solution has the form of a linear combination of Gaussian functions:\n",
    "\n",
    "$$u(x; c, \\sigma) = \\sum_{i=1}^N c_i^2 \\ \\phi(x; x_i, \\sigma_i) = \\sum_{i=1}^N c_i^2 \\ e^{-\\frac{(x-x_i)^2}{2 \\sigma_i^2}}$$"
   ]
  },
  {
   "cell_type": "markdown",
   "metadata": {},
   "source": [
    "## Loading data 1D from center pixel of cube"
   ]
  },
  {
   "cell_type": "code",
   "execution_count": 3,
   "metadata": {
    "collapsed": false
   },
   "outputs": [
    {
     "name": "stdout",
     "output_type": "stream",
     "text": [
      "INFO: Processing HDU 0 (Image) [acalib.io.formats]\n",
      "INFO: 4D data detected: assuming RA-DEC-FREQ-STOKES (like CASA-generated ones), and dropping STOKES [acalib.io.formats]\n"
     ]
    },
    {
     "name": "stderr",
     "output_type": "stream",
     "text": [
      "/home/martin/miniconda2/lib/python2.7/site-packages/numpy/ma/core.py:809: RuntimeWarning: invalid value encountered in greater_equal\n",
      "  return umath.absolute(a) * self.tolerance >= umath.absolute(b)\n"
     ]
    }
   ],
   "source": [
    "\"\"\"\n",
    "Loading data\n",
    "\"\"\"\n",
    "cont = ac.AContainer()\n",
    "#cont.load('../../bindata/fits/cubes/Antennae_North.CO3_2Line.Clean.pcal1.image.fits')\n",
    "#cont.load('../../bindata/fits/cubes/Antennae_South.CO3_2Line.Clean.pcal1.image.fits')\n",
    "#cont.load('../../bindata/fits/cubes/CenA.CO2_1Line.Clean.image.fits')\n",
    "cont.load('../../bindata/fits/cubes/M100line.image.fits')\n",
    "#cont.load('../../bindata/fits/cubes/Orion.methanol.cbc.contsub.image.fits')\n",
    "\n",
    "cube = cont.primary\n",
    "spar = cube.standarize()\n",
    "data = cube.data"
   ]
  },
  {
   "cell_type": "code",
   "execution_count": 4,
   "metadata": {
    "collapsed": false
   },
   "outputs": [],
   "source": [
    "\"\"\"\n",
    "Generating the data function\n",
    "\"\"\"\n",
    "f_data = data[:,300,300]\n",
    "f_data /= np.max(f_data)\n",
    "x = np.linspace(0., 1., len(f_data), endpoint=True)\n",
    "f = sp.interpolate.interp1d(x, f_data, kind='linear')\n",
    "x_ = np.linspace(0., 1., 10*len(f_data), endpoint=True)"
   ]
  },
  {
   "cell_type": "code",
   "execution_count": 5,
   "metadata": {
    "collapsed": false
   },
   "outputs": [
    {
     "data": {
      "image/png": "[encoded data removed]",
      "text/plain": [
       "<matplotlib.figure.Figure at 0x7ff4be698090>"
      ]
     },
     "metadata": {},
     "output_type": "display_data"
    }
   ],
   "source": [
    "plt.figure(figsize=(10,6))\n",
    "plt.plot(x, f_data, 'bo', x_, f(x_), 'r--')\n",
    "plt.title('Spectrum Distribution')\n",
    "plt.xlabel('Freq')\n",
    "plt.ylabel('Intensity')\n",
    "plt.show()"
   ]
  },
  {
   "cell_type": "markdown",
   "metadata": {},
   "source": [
    "## Defining and computing the penalizing functions $\\Psi_1$ and $\\Psi_2$"
   ]
  },
  {
   "cell_type": "markdown",
   "metadata": {},
   "source": [
    "$$\n",
    " \\widehat{\\psi_1}(x) = \\left\\{\n",
    "     \\begin{array}{lr}\n",
    "       0  & : x < 0 \\\\\n",
    "       \\frac{1}{1+e^{\\frac{1}{x-1}+\\frac{1}{x}}} & : x \\in [0,1]\\\\\n",
    "       1 & : x >1\n",
    "     \\end{array}\n",
    "   \\right. \n",
    "   \\Longrightarrow \\psi_1(x) = \\widehat{\\psi_1}(\\lambda \\ x) \\ \\ \\ \\text{with } \\lambda \\text{ the scale parameter.}\n",
    "$$\n",
    "\n",
    "\n",
    "$$\n",
    "\\psi_2(x) = \\lambda^2 \\log\\left(1 + \\frac{x}{\\lambda^2}\\right) \\ \\ \\ \\ \\text{Perona-Malik regularizer}\n",
    "$$"
   ]
  },
  {
   "cell_type": "code",
   "execution_count": 6,
   "metadata": {
    "collapsed": false
   },
   "outputs": [],
   "source": [
    "\"\"\"\n",
    "Phi1 penalizing functions and its derivatives\n",
    "\"\"\"\n",
    "def d1psi1(x, lamb=1.):\n",
    "    x = lamb*x\n",
    "    ret = np.empty(x.shape)\n",
    "    mask0 = x<=0.\n",
    "    mask1 = x>=1.\n",
    "    mask01 = np.logical_and(np.logical_not(mask0),np.logical_not(mask1))\n",
    "    ret[mask0] = 0.\n",
    "    ret[mask1] = 1.\n",
    "    #evaluation on 0-1\n",
    "    x = x[mask01]\n",
    "    ret[mask01] = ne.evaluate('(4*(x-1)*x+2) / (4*(x-1)**2 * x**2 * (cosh(1/x + 1/(x-1))+1))')\n",
    "    return lamb*ret\n",
    "    \n",
    "\"\"\"\n",
    "Psi2 penalizing functions and its derivatives\n",
    "\"\"\"\n",
    "#Perona-Malik regularizer\n",
    "def psi2(x, lamb=1.):\n",
    "    return lamb**2 * np.log(1. + x/lamb**2)\n",
    "\n",
    "def d1psi2(x, lamb=1.):\n",
    "    return 1. / (1. + x/lamb**2)\n",
    "\n",
    "def d2psi2(x, lamb=1.):\n",
    "    return -lamb**2 / (x + lamb**2)**2"
   ]
  },
  {
   "cell_type": "markdown",
   "metadata": {},
   "source": [
    "## $\\phi$-RBF function to use and its derivatives"
   ]
  },
  {
   "cell_type": "code",
   "execution_count": 7,
   "metadata": {
    "collapsed": false
   },
   "outputs": [],
   "source": [
    "#minimal broadening of gaussians\n",
    "minsig = 0.001\n",
    "\n",
    "\"\"\"\n",
    "RBF (Gaussian) functions and its derivatives\n",
    "\"\"\"\n",
    "def phi(x, sig, minsig=0):\n",
    "    retval = ne.evaluate('exp(-x**2/(2*(minsig**2+sig**2)))')\n",
    "    #retval = np.exp(-x**2/(2*sig**2))\n",
    "    return retval\n",
    "\n",
    "def phix(x, sig, minsig=0):\n",
    "    retval = ne.evaluate('-(1./(minsig**2+sig**2)) * exp(-x**2/(2*(minsig**2+sig**2))) * x')\n",
    "    #retval = -(1./sig**2) * np.exp(-x**2/(2*sig**2)) * x\n",
    "    return retval\n",
    "\n",
    "def phixx(x, sig, minsig=0):\n",
    "    retval = ne.evaluate('(1./(minsig**2+sig**2)**2) * exp(-x**2/(2*(minsig**2+sig**2))) * (x**2 - minsig**2 - sig**2)')\n",
    "    #retval = (1./sig**4) * np.exp(-x**2/(2*sig**2)) * (x**2 - sig**2)\n",
    "    return retval"
   ]
  },
  {
   "cell_type": "markdown",
   "metadata": {},
   "source": [
    "## Euler-Lagrange Function class definition"
   ]
  },
  {
   "cell_type": "code",
   "execution_count": 8,
   "metadata": {
    "collapsed": false
   },
   "outputs": [],
   "source": [
    "class ELFunc():\n",
    "    def __init__(self, f, xe, xc, c0, sig0, d1psi1, d2psi2, a=0., b=0., lamb1=1., lamb2=1.):\n",
    "        #data function at evaluation and boundary points\n",
    "        f0 = f(xe)\n",
    "        fb = [f(0),f(1)]\n",
    "        \n",
    "        len_f0 = len(f0)\n",
    "        len_xe = len(xe)\n",
    "        len_xc = len(xc); N = len_xc;\n",
    "        len_c0 = len(c0)\n",
    "        len_sig0 = len(sig0)\n",
    "        \"\"\"\n",
    "        TODO:verify consistency\n",
    "        \"\"\"\n",
    "        #if len_c0 != len_sig0: \n",
    "        #    print('Dimensions of c0 and sig0 must match!')\n",
    "        #    return None\n",
    "        #if (shape_Dx[0]+2 != shape_Dx[1]) or (shape_Dx[1] != len_c0):\n",
    "        #    print('Dimensions of Dx are wrong!')\n",
    "        #    return None\n",
    "        \"\"\" \n",
    "        Computing distance matrix.\n",
    "        Note: Evaluation and collocation points will be the same\n",
    "        \"\"\"\n",
    "        Dx = np.empty((2*N-2,N))\n",
    "        for i in range(2*N-2):\n",
    "            Dx[i,:] = (xe[i] - xc)\n",
    "        \n",
    "        self.f0 = f0\n",
    "        self.fb = fb\n",
    "        self.xe = xe\n",
    "        self.xc = xc\n",
    "        self.Dx = Dx\n",
    "        self.c = c0\n",
    "        self.sig = sig0\n",
    "        self.phi_m   = phi(Dx,sig0)\n",
    "        self.phix_m  = phix(Dx,sig0)\n",
    "        self.phixx_m = phixx(Dx,sig0)\n",
    "        self.d1psi1 = d1psi1\n",
    "        self.d2psi2 = d2psi2\n",
    "        self.a = a\n",
    "        self.b = b\n",
    "        self.lamb1 = lamb1\n",
    "        self.lamb2 = lamb2\n",
    "    \n",
    "    def set_c(self, c):\n",
    "        self.c = c\n",
    "    \n",
    "    def set_sig(self, sig):\n",
    "        self.sig = sig\n",
    "        self.phi_m   = phi(self.Dx,sig)\n",
    "        self.phix_m  = phix(self.Dx,sig)\n",
    "        self.phixx_m = phixx(self.Dx,sig)\n",
    "    \n",
    "    \"\"\"\n",
    "    Function to optimize c and sig together\n",
    "    \"\"\"\n",
    "    def F(self, X):\n",
    "        #unpacking parameters\n",
    "        N = len(X)/2\n",
    "        c_squared = X[0:N]**2\n",
    "        sig = X[N:]\n",
    "\n",
    "        #phi function's evaluation\n",
    "        phi_m   = phi(self.Dx, sig)\n",
    "        phix_m  = phix(self.Dx, sig)\n",
    "        phixx_m = phixx(self.Dx, sig)\n",
    "        \n",
    "\n",
    "        #computing the Euler-Lagrange equation\n",
    "        u   = np.dot(phi_m, c_squared)\n",
    "        ux  = np.dot(phix_m, c_squared)\n",
    "        uxx = np.dot(phixx_m, c_squared)\n",
    "        el = 2.*(u-self.f0) + \\\n",
    "            self.a*self.d1psi1(u-self.f0, lamb=self.lamb1) - \\\n",
    "            self.b*uxx*self.d2psi2(np.abs(ux), lamb=self.lamb2)\n",
    "        \n",
    "        #evaluating at boundary\n",
    "        bc = [np.dot(phi(-self.xc,sig),c_squared)-self.fb[0], np.dot(phi(1.-self.xc,sig),c_squared)-self.fb[-1]]\n",
    "        return np.concatenate([el,bc])"
   ]
  },
  {
   "cell_type": "markdown",
   "metadata": {},
   "source": [
    "## Centers and evaluation points"
   ]
  },
  {
   "cell_type": "code",
   "execution_count": 9,
   "metadata": {
    "collapsed": false,
    "scrolled": true
   },
   "outputs": [
    {
     "name": "stdout",
     "output_type": "stream",
     "text": [
      "Center points:\n",
      "[ 0.04761905  0.0952381   0.14285714  0.19047619  0.23809524  0.28571429\n",
      "  0.33333333  0.38095238  0.42857143  0.47619048  0.52380952  0.57142857\n",
      "  0.61904762  0.66666667  0.71428571  0.76190476  0.80952381  0.85714286\n",
      "  0.9047619   0.95238095]\n",
      "---------------------------------------------\n",
      "Evaluation points:\n",
      "[ 0.02564103  0.05128205  0.07692308  0.1025641   0.12820513  0.15384615\n",
      "  0.17948718  0.20512821  0.23076923  0.25641026  0.28205128  0.30769231\n",
      "  0.33333333  0.35897436  0.38461538  0.41025641  0.43589744  0.46153846\n",
      "  0.48717949  0.51282051  0.53846154  0.56410256  0.58974359  0.61538462\n",
      "  0.64102564  0.66666667  0.69230769  0.71794872  0.74358974  0.76923077\n",
      "  0.79487179  0.82051282  0.84615385  0.87179487  0.8974359   0.92307692\n",
      "  0.94871795  0.97435897]\n",
      "---------------------------------------------\n"
     ]
    }
   ],
   "source": [
    "#number of gaussians\n",
    "N = 20\n",
    "\n",
    "\"\"\" Computing center points \"\"\"\n",
    "xc = np.linspace(0., 1., N+2, endpoint=True)[1:-1]\n",
    "print('Center points:')\n",
    "print(xc)\n",
    "print('---------------------------------------------')\n",
    "\n",
    "\"\"\" \n",
    "Computing evaluation points, i.e, points where\n",
    "EL equation will be evaluated\n",
    "\"\"\"\n",
    "xe = np.linspace(0., 1., 2*N, endpoint=True)[1:-1]\n",
    "print('Evaluation points:')\n",
    "print(xe)\n",
    "print('---------------------------------------------')"
   ]
  },
  {
   "cell_type": "markdown",
   "metadata": {},
   "source": [
    "## Initial conditions"
   ]
  },
  {
   "cell_type": "code",
   "execution_count": 10,
   "metadata": {
    "collapsed": true
   },
   "outputs": [],
   "source": [
    "\"\"\"\n",
    "Defining initial parameter values\n",
    "\"\"\"\n",
    "c0 = np.sqrt(f(xc)/N)\n",
    "sig0 = (1./(N))*np.ones(N)"
   ]
  },
  {
   "cell_type": "code",
   "execution_count": 11,
   "metadata": {
    "collapsed": false
   },
   "outputs": [
    {
     "data": {
      "image/png": "[encoded data removed]",
      "text/plain": [
       "<matplotlib.figure.Figure at 0x7ff4e6f0cfd0>"
      ]
     },
     "metadata": {},
     "output_type": "display_data"
    }
   ],
   "source": [
    "\"\"\"\n",
    "Visualizing the 'initial' solution\n",
    "\"\"\"\n",
    "compare_plot(c0, sig0, xc, title='Initial Solution')"
   ]
  },
  {
   "cell_type": "markdown",
   "metadata": {},
   "source": [
    "## Solving it!"
   ]
  },
  {
   "cell_type": "code",
   "execution_count": 16,
   "metadata": {
    "collapsed": false
   },
   "outputs": [],
   "source": [
    "#Instantiating the EL func object\n",
    "elf0 = ELFunc(f, xe, xc, c0, sig0, d1psi1, d2psi2, a=0., b=0.)\n",
    "elf1 = ELFunc(f, xe, xc, c0, sig0, d1psi1, d2psi2, a=.1, b=0., lamb1=10.)\n",
    "elf2 = ELFunc(f, xe, xc, c0, sig0, d1psi1, d2psi2, a=.5, b=0.01, lamb1=10., lamb2=1.)\n",
    "elf_list = [elf0, elf1, elf2]"
   ]
  },
  {
   "cell_type": "code",
   "execution_count": 17,
   "metadata": {
    "collapsed": false
   },
   "outputs": [
    {
     "name": "stdout",
     "output_type": "stream",
     "text": [
      "fun:\n",
      " [-0.06630918 -0.12636805 -0.12017501 -0.01205806  0.02685517 -0.02152047\n",
      " -0.03452811  0.01717243  0.00931049 -0.01321572 -0.01990431  0.01951422\n",
      "  0.02257523 -0.03773216 -0.16032426 -0.33397253 -0.38568158 -0.10883099\n",
      "  0.06280743 -0.24053381 -0.02557507  0.01002045 -0.13328397 -0.05044209\n",
      " -0.07478749 -0.061697   -0.10828881  0.00323363  0.02424146 -0.0413008\n",
      " -0.06131761 -0.04839896 -0.04191596  0.03062214 -0.05857367 -0.09909842\n",
      " -0.13811002 -0.05238533 -0.05964629 -0.00212988]\n",
      "\n",
      "nfev: 3393\n",
      "\n",
      "message: The relative error between two consecutive iterates is at most 0.000000\n",
      "\n",
      "success: True\n",
      "\n",
      "op_c:\n",
      " [ 0.43386085  0.33582589  0.18238524  0.08908951  0.13036539  0.22379126\n",
      "  0.30274537  0.30034258  0.78732629  0.52446988  0.28650776  0.27458413\n",
      "  0.22022925  0.19758932  0.23363355  0.21916762  0.02628928  0.14003375\n",
      "  0.29782265  0.47216597]\n",
      "\n",
      "op_c_squared:\n",
      " [ 0.18823524  0.11277903  0.03326437  0.00793694  0.01699513  0.05008253\n",
      "  0.09165476  0.09020567  0.61988269  0.27506865  0.0820867   0.07539644\n",
      "  0.04850092  0.03904154  0.05458463  0.04803445  0.00069113  0.01960945\n",
      "  0.08869833  0.2229407 ]\n",
      "\n",
      "op_sig:\n",
      " [ 0.09761222  0.17393627  0.04766851  0.01952708  0.02315225  0.16461417\n",
      "  0.08035066  0.07084698  0.04033933  0.02867776  0.09834356  0.08872434\n",
      "  0.07502536  0.03609176  0.0271728   0.03469805  0.06344721  0.19764733\n",
      "  0.2232959   0.13832839]\n",
      "-------------------------------------------------------------------\n"
     ]
    }
   ],
   "source": [
    "#solve it!\n",
    "elf = elf_list[2]\n",
    "sol = sp.optimize.root(elf.F, np.concatenate([elf.c, elf.sig]), method='lm', options={'maxiter':10000})\n",
    "op_c = sol.x[0:N]\n",
    "op_sig = sol.x[N:]\n",
    "print('fun:\\n {0}'.format(sol['fun']))\n",
    "print('\\nnfev: {0}'.format(sol['nfev']))\n",
    "print('\\nmessage: {0}'.format(sol['message']))\n",
    "print('\\nsuccess: {0}'.format(sol['success']))\n",
    "print('\\nop_c:\\n {0}'.format(op_c))\n",
    "print('\\nop_c_squared:\\n {0}'.format(op_c**2))\n",
    "print('\\nop_sig:\\n {0}'.format(op_sig))\n",
    "print('-------------------------------------------------------------------')"
   ]
  },
  {
   "cell_type": "code",
   "execution_count": 18,
   "metadata": {
    "collapsed": false
   },
   "outputs": [
    {
     "data": {
      "image/png": "[encoded data removed]",
      "text/plain": [
       "<matplotlib.figure.Figure at 0x7ff4c1ed3bd0>"
      ]
     },
     "metadata": {},
     "output_type": "display_data"
    }
   ],
   "source": [
    "compare_plot(op_c, op_sig, xc, title='Solution Comparison')"
   ]
  },
  {
   "cell_type": "code",
   "execution_count": 19,
   "metadata": {
    "collapsed": false
   },
   "outputs": [
    {
     "data": {
      "image/png": "[encoded data removed]",
      "text/plain": [
       "<matplotlib.figure.Figure at 0x7ff4c1969350>"
      ]
     },
     "metadata": {},
     "output_type": "display_data"
    }
   ],
   "source": [
    "compare_plot_log(op_c, op_sig, xc, title='Difference between u and f at finer grid')"
   ]
  }
 ],
 "metadata": {
  "kernelspec": {
   "display_name": "Python 2",
   "language": "python",
   "name": "python2"
  },
  "language_info": {
   "codemirror_mode": {
    "name": "ipython",
    "version": 2
   },
   "file_extension": ".py",
   "mimetype": "text/x-python",
   "name": "python",
   "nbconvert_exporter": "python",
   "pygments_lexer": "ipython2",
   "version": "2.7.11"
  }
 },
 "nbformat": 4,
 "nbformat_minor": 0
}
