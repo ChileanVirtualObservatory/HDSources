{
 "cells": [
  {
   "cell_type": "code",
   "execution_count": 44,
   "metadata": {
    "collapsed": false
   },
   "outputs": [],
   "source": [
    "%matplotlib inline\n",
    "\n",
    "import sys\n",
    "import numpy as np\n",
    "import scipy as sp\n",
    "import sympy as sym\n",
    "import numexpr as ne\n",
    "import matplotlib.pyplot as plt\n",
    "from scipy import interpolate, optimize\n",
    "\n",
    "#import of acalib helper functions\n",
    "sys.path.append('../../ACALIB/')\n",
    "from acalib import acontainer as ac"
   ]
  },
  {
   "cell_type": "markdown",
   "metadata": {},
   "source": [
    "Given the following functional: \n",
    "\n",
    "$$J(u) = \\int_{\\Omega \\subset \\mathbb{R}} L(x, u, u_x) \\ dx  = \\int_{\\Omega \\subset \\mathbb{R}}(u(x)-f_0(x))^2 + \\alpha \\ \\Psi_1(u(x)-f_0(x)) + \\beta \\ \\Psi_2(|u_x(x)|) \\ dx $$\n",
    "\n",
    "then when we try to minimize it, the corresponding Euler-Lagrange equation becomes:\n",
    "\n",
    "$$\\frac{\\partial L}{\\partial u}-\\frac{d}{dx}\\frac{\\partial L}{\\partial u_x} =  2(u(x)-f_0(x)) + \\alpha \\ \\Psi_1'(u(x)-f_0(x)) - \\beta \\ u_{xx}(x) \\ \\Psi_2''(|u_{x}(x)|) = 0$$\n",
    "\n",
    "whit boundary condition $u(\\partial \\Omega) = 0$. The proposed solution has the form of a linear combination of Gaussian functions:\n",
    "\n",
    "$$u(x) = \\sum_{i=1}^N c_i \\ \\phi(x; x_i, \\sigma_i) = \\sum_{i=1}^N c_i \\ e^{-\\frac{(x-x_i)^2}{2 \\sigma_i^2}}$$"
   ]
  },
  {
   "cell_type": "code",
   "execution_count": 45,
   "metadata": {
    "collapsed": false
   },
   "outputs": [
    {
     "name": "stdout",
     "output_type": "stream",
     "text": [
      "INFO: Processing HDU 0 (Image) [acalib.io.formats]\n",
      "INFO: 4D data detected: assuming RA-DEC-FREQ-STOKES (like CASA-generated ones), and dropping STOKES [acalib.io.formats]\n"
     ]
    }
   ],
   "source": [
    "\"\"\"\n",
    "Loading data\n",
    "\"\"\"\n",
    "cont = ac.AContainer()\n",
    "#cont.load('../../bindata/fits/cubes/Antennae_North.CO3_2Line.Clean.pcal1.image.fits')\n",
    "#cont.load('../../bindata/fits/cubes/Antennae_South.CO3_2Line.Clean.pcal1.image.fits')\n",
    "#cont.load('../../bindata/fits/cubes/CenA.CO2_1Line.Clean.image.fits')\n",
    "cont.load('../../bindata/fits/cubes/M100line.image.fits')\n",
    "#cont.load('../../bindata/fits/cubes/Orion.methanol.cbc.contsub.image.fits')\n",
    "\n",
    "cube = cont.primary\n",
    "spar = cube.standarize()\n",
    "data = cube.data"
   ]
  },
  {
   "cell_type": "code",
   "execution_count": 47,
   "metadata": {
    "collapsed": false
   },
   "outputs": [],
   "source": [
    "\"\"\"\n",
    "Generating the data function\n",
    "\"\"\"\n",
    "f_data = data[:,300,300]\n",
    "x = np.linspace(0., 1., len(f_data), endpoint=True)\n",
    "f = sp.interpolate.interp1d(x, f_data, kind='linear')\n",
    "x_ = np.linspace(0., 1., 10*len(f_data), endpoint=True)"
   ]
  },
  {
   "cell_type": "code",
   "execution_count": 48,
   "metadata": {
    "collapsed": false
   },
   "outputs": [
    {
     "data": {
      "image/png": "[encoded data removed]",
      "text/plain": [
       "<matplotlib.figure.Figure at 0x7f9e3821bc10>"
      ]
     },
     "metadata": {},
     "output_type": "display_data"
    }
   ],
   "source": [
    "plt.figure(figsize=(10,6))\n",
    "plt.plot(x, f_data, 'bo', x_, f(x_), 'r--')\n",
    "plt.title('Spectrum Distribution')\n",
    "plt.xlabel('Freq')\n",
    "plt.ylabel('Intensity')\n",
    "plt.show()"
   ]
  },
  {
   "cell_type": "code",
   "execution_count": 69,
   "metadata": {
    "collapsed": false
   },
   "outputs": [],
   "source": [
    "#setting parameters\n",
    "a = 0.001*0\n",
    "b = 0.1*0\n",
    "N = 10\n",
    "\n",
    "z = sym.Symbol('z')\n",
    "\n",
    "#Penalizing function and its derivatives\n",
    "psi1 = sym.exp(z)\n",
    "d1psi1 = sym.diff(psi1, z)\n",
    "d1psi1 = sym.lambdify(z, d1psi1, modules='numpy')\n",
    "\n",
    "#Smoothing function and its derivatives\n",
    "lamb = 0.5\n",
    "#psi2 = 2*lamb*sym.log(1 + z**2/lamb)\n",
    "psi2 = z**3\n",
    "d1psi2 = sym.diff(psi2, z)\n",
    "d2psi2 = sym.diff(d1psi2, z)\n",
    "d1psi2 = sym.lambdify(z, d1psi2, modules='numpy')\n",
    "d2psi2 = sym.lambdify(z, d2psi2, modules='numpy')"
   ]
  },
  {
   "cell_type": "code",
   "execution_count": 70,
   "metadata": {
    "collapsed": true
   },
   "outputs": [],
   "source": [
    "\"\"\"\n",
    "RBF (Gaussian) functions and its derivatives\n",
    "\"\"\"\n",
    "def phi(x, sig):\n",
    "    retval = ne.evaluate('exp(-x**2/(2*sig**2))')\n",
    "    #retval = np.exp(-x**2/(2*sig**2))\n",
    "    return retval\n",
    "\n",
    "def phix(x, sig):\n",
    "    retval = ne.evaluate('-(1./sig**2) * exp(-x**2/(2*sig**2)) * x')\n",
    "    #retval = -(1./sig**2) * np.exp(-x**2/(2*sig**2)) * x\n",
    "    return retval\n",
    "\n",
    "def phixx(x, sig):\n",
    "    retval = ne.evaluate('(1./sig**4) * exp(-x**2/(2*sig**2)) * (x**2 - sig**2)')\n",
    "    #retval = (1./sig**4) * np.exp(-x**2/(2*sig**2)) * (x**2 - sig**2)\n",
    "    return retval"
   ]
  },
  {
   "cell_type": "code",
   "execution_count": 82,
   "metadata": {
    "collapsed": false
   },
   "outputs": [
    {
     "name": "stdout",
     "output_type": "stream",
     "text": [
      "Center points:\n",
      "[ 0.09090909  0.18181818  0.27272727  0.36363636  0.45454545  0.54545455\n",
      "  0.63636364  0.72727273  0.81818182  0.90909091]\n",
      "----\n",
      "Evaluation points:\n",
      "[ 0.11111111  0.22222222  0.33333333  0.44444444  0.55555556  0.66666667\n",
      "  0.77777778  0.88888889]\n",
      "----\n"
     ]
    }
   ],
   "source": [
    "\"\"\" Computing center points \"\"\"\n",
    "xc = np.linspace(0., 1., N+2, endpoint=True)[1:-1]\n",
    "print('Center points:')\n",
    "print(xc)\n",
    "print('----')\n",
    "\n",
    "\"\"\" Computing evaluation points \"\"\"\n",
    "xe = np.linspace(0., 1., N, endpoint=True)[1:-1]\n",
    "print('Evaluation points:')\n",
    "print(xe)\n",
    "print('----')\n",
    "\n",
    "\"\"\" Computing the values of f at evaluation points \"\"\"\n",
    "f0 = f(xe)\n",
    "\n",
    "\"\"\" \n",
    "Computing distance matrix.\n",
    "Note: Evaluation and collocation points will be the same\n",
    "\"\"\"\n",
    "Dx = np.empty((N-2,N))\n",
    "for k in range(N-2):\n",
    "\tDx[k,:] = (xe[k] - xc)"
   ]
  },
  {
   "cell_type": "code",
   "execution_count": 114,
   "metadata": {
    "collapsed": true
   },
   "outputs": [],
   "source": [
    "class func():\n",
    "    def __init__(self, f0, c0, sig0, Dx):\n",
    "        len_c0 = len(c0)\n",
    "        len_sig0 = len(sig0)\n",
    "        shape_Dx = Dx.shape\n",
    "        if len_c0 != len_sig0: \n",
    "            print('Dimensions of c0 and sig0 must match!')\n",
    "            return None\n",
    "        if (shape_Dx[0]+2 != shape_Dx[1]) or (shape_Dx[1] != len_c0):\n",
    "            print('Dimensions of Dx are wrong!')\n",
    "            return None\n",
    "        self.f0 = f0\n",
    "        self.c = c0\n",
    "        self.sig = sig0\n",
    "        self.Dx = Dx\n",
    "        self.phi_m   = phi(Dx,sig0)\n",
    "        self.phix_m  = phix(Dx,sig0)\n",
    "        self.phixx_m = phixx(Dx,sig0)\n",
    "    \n",
    "    def set_c(self, c):\n",
    "        self.c = c\n",
    "    \n",
    "    def set_sig(self, sig):\n",
    "        self.sig = sig\n",
    "        self.phi_m   = phi(self.Dx,sig)\n",
    "        self.phix_m  = phix(self.Dx,sig)\n",
    "        self.phixx_m = phixx(self.Dx,sig)\n",
    "        \n",
    "    \"\"\"\n",
    "    Function to optimize c parameters\n",
    "    \"\"\"\n",
    "    def F1(self, c):\n",
    "        #computing the Euler-Lagrange equation\n",
    "        u   = np.dot(self.phi_m, c)\n",
    "        ux  = np.dot(self.phix_m, c)\n",
    "        uxx = np.dot(self.phixx_m, c)\n",
    "        el  = 2.*(u-self.f0) + a*d1psi1(u-self.f0) - b*uxx*d2psi2(np.abs(ux))\n",
    "\n",
    "        #evaluating at boundary\n",
    "        bc = [np.dot(phix(-xc,self.sig),c)-f_data[0], np.dot(phix(1.-xc,self.sig),c)-f_data[-1]]\n",
    "        #bc = [np.dot(phi(-xc,sig),c), np.dot(phi(1.-xc,sig),c)]\n",
    "        #bc = [np.dot(phix(-xc,sig),c), np.dot(phix(1.-xc,sig),c)]\n",
    "        return np.concatenate([el,bc])\n",
    "\n",
    "    \"\"\"\n",
    "    Function to optimize sig parameters\n",
    "    \"\"\"\n",
    "    def F2(self, sig):    \n",
    "        #phi function's evaluation\n",
    "        phi_m   = phi(self.Dx, sig)\n",
    "        phix_m  = phix(self.Dx, sig)\n",
    "        phixx_m = phixx(self.Dx, sig)\n",
    "\n",
    "        #computing the Euler-Lagrange equation\n",
    "        u   = np.dot(phi_m, self.c)\n",
    "        ux  = np.dot(phix_m, self.c)\n",
    "        uxx = np.dot(phixx_m, self.c)\n",
    "        el = 2.*(u-self.f0) + a*d1psi1(u-self.f0) - b*uxx*d2psi2(np.abs(ux))\n",
    "\n",
    "        #evaluating at boundary\n",
    "        bc = [np.dot(phi(-xc,sig),self.c)-f_data[0], np.dot(phi(1.-xc,sig),self.c)-f_data[-1]]\n",
    "        #bc = [np.dot(phi(-xc,sig),c), np.dot(phi(1.-xc,sig),c)]\n",
    "        #bc = [np.dot(phix(-xc,sig),c), np.dot(phix(1.-xc,sig),c)]\n",
    "        return np.concatenate([el,bc])"
   ]
  },
  {
   "cell_type": "code",
   "execution_count": 115,
   "metadata": {
    "collapsed": false
   },
   "outputs": [],
   "source": [
    "\"\"\"\n",
    "Defining initial parameter values\n",
    "\"\"\"\n",
    "c0 = f(xc)/N\n",
    "sig0 = (1./(N))*np.ones(N)"
   ]
  },
  {
   "cell_type": "code",
   "execution_count": 116,
   "metadata": {
    "collapsed": false
   },
   "outputs": [
    {
     "data": {
      "image/png": "[encoded data removed]",
      "text/plain": [
       "<matplotlib.figure.Figure at 0x7f9e052f8150>"
      ]
     },
     "metadata": {},
     "output_type": "display_data"
    }
   ],
   "source": [
    "\"\"\"\n",
    "Visualizing the 'initial' solution\n",
    "\"\"\"\n",
    "_xe = np.linspace(0., 1., 10*N, endpoint=True)\n",
    "_Dx = np.empty((10*N,N))\n",
    "for k in range(10*N):\n",
    "    _Dx[k,:] = (_xe[k] - xc)\n",
    "\n",
    "phi_m0 = phi(_Dx, sig0)\n",
    "u0 = np.dot(phi_m0, c0)\n",
    "plt.figure(figsize=(10,6))\n",
    "plt.plot(_xe, u0, 'ro', x_, f(x_), 'b--')\n",
    "plt.show()"
   ]
  },
  {
   "cell_type": "code",
   "execution_count": 117,
   "metadata": {
    "collapsed": false
   },
   "outputs": [],
   "source": [
    "\"\"\"\n",
    "Instantiating the EL func object\n",
    "\"\"\"\n",
    "elfunc = func(f0, c0, sig0, Dx)"
   ]
  },
  {
   "cell_type": "code",
   "execution_count": 119,
   "metadata": {
    "collapsed": false
   },
   "outputs": [],
   "source": [
    "\"\"\"\n",
    "Solve it!\n",
    "\"\"\"\n",
    "n_iter = 10\n",
    "\n",
    "for i in range(n_iter):\n",
    "    #solve for c\n",
    "    opt_c = sp.optimize.fsolve(elfunc.F1, elfunc.c)\n",
    "    elfunc.set_c(opt_c)\n",
    "    \n",
    "    #solve for sig\n",
    "    opt_sig = sp.optimize.fsolve(elfunc.F2, elfunc.sig)\n",
    "    elfunc.set_sig(opt_sig)"
   ]
  },
  {
   "cell_type": "code",
   "execution_count": null,
   "metadata": {
    "collapsed": true
   },
   "outputs": [],
   "source": []
  },
  {
   "cell_type": "code",
   "execution_count": 24,
   "metadata": {
    "collapsed": false
   },
   "outputs": [
    {
     "name": "stdout",
     "output_type": "stream",
     "text": [
      "(6, 3)\n",
      "(40,)\n",
      "(6,)\n"
     ]
    },
    {
     "data": {
      "image/png": "[encoded data removed]",
      "text/plain": [
       "<matplotlib.figure.Figure at 0x7f13bd57fe10>"
      ]
     },
     "metadata": {},
     "output_type": "display_data"
    },
    {
     "name": "stdout",
     "output_type": "stream",
     "text": [
      "[ 0.16666667  0.5         0.83333333]\n"
     ]
    }
   ],
   "source": [
    "\"\"\"\n",
    "Visualizing the result\n",
    "\"\"\"\n",
    "Dx_ = np.empty((40,N))\n",
    "for k in range(40):\n",
    "\tDx_[k,:] = (x[k] - xc)\n",
    "\n",
    "phi_m = phi(Dx, sig)\n",
    "u = np.dot(phi_m, c)\n",
    "plt.figure(figsize=(10,6))\n",
    "plt.plot(xe, u, 'bo', xe, u, xe, f(xe), 'r^')\n",
    "\n",
    "phi_m_ = phi(Dx_, sig)\n",
    "u_ = np.dot(phi_m_, c)\n",
    "print(phi_m.shape)\n",
    "print(x.shape)\n",
    "print(u.shape)\n",
    "plt.plot(x, u_)\n",
    "plt.show()\n",
    "print(xc)"
   ]
  },
  {
   "cell_type": "code",
   "execution_count": 13,
   "metadata": {
    "collapsed": false
   },
   "outputs": [
    {
     "data": {
      "text/plain": [
       "array([ 1.33732467, -3.2533499 ,  1.08224583,  0.82813551, -0.06019185,\n",
       "       -0.11609308])"
      ]
     },
     "execution_count": 13,
     "metadata": {},
     "output_type": "execute_result"
    }
   ],
   "source": [
    "F(X)"
   ]
  },
  {
   "cell_type": "markdown",
   "metadata": {},
   "source": [
    "- bc\n",
    "- 2 gaussianas\n",
    "- distinto solver |F|\n",
    "- well posedeness"
   ]
  }
 ],
 "metadata": {
  "kernelspec": {
   "display_name": "Python 2",
   "language": "python",
   "name": "python2"
  },
  "language_info": {
   "codemirror_mode": {
    "name": "ipython",
    "version": 2
   },
   "file_extension": ".py",
   "mimetype": "text/x-python",
   "name": "python",
   "nbconvert_exporter": "python",
   "pygments_lexer": "ipython2",
   "version": "2.7.11"
  }
 },
 "nbformat": 4,
 "nbformat_minor": 0
}
