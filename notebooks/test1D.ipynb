{
 "cells": [
  {
   "cell_type": "code",
   "execution_count": 1,
   "metadata": {
    "collapsed": true
   },
   "outputs": [],
   "source": [
    "import numpy as np\n",
    "import scipy as sp\n",
    "import sympy as sym"
   ]
  },
  {
   "cell_type": "markdown",
   "metadata": {},
   "source": [
    "Given the following functional: \n",
    "\n",
    "$$J(u) = \\int_{\\Omega \\subset \\mathbb{R}} L(x, u, u_x) \\ dx  = \\int_{\\Omega \\subset \\mathbb{R}}(u(x)-f_0(x))^2 + \\alpha \\ \\Psi_1(u(x)-f_0(x)) + \\beta \\ \\Psi_2(|u'(x)|) \\ dx $$\n",
    "\n",
    "then when we try to minimize it, the corresponding Euler-Lagrange equation becomes:\n",
    "\n",
    "$$\\frac{\\partial L}{\\partial u}-\\frac{d}{dx}\\frac{\\partial L}{\\partial u_x} =  2(u(x)-f_0(x)) + \\alpha \\ \\Psi_1'(u(x)-f_0(x)) - \\beta \\ u_{xx}(x) \\ \\Psi_2''(|u_{x}(x)|)$$"
   ]
  },
  {
   "cell_type": "code",
   "execution_count": 2,
   "metadata": {
    "collapsed": false
   },
   "outputs": [],
   "source": [
    "#setting parameters\n",
    "a = 0.1\n",
    "b = 1.\n",
    "N = 50\n",
    "\n",
    "z = sym.Symbol('z')\n",
    "\n",
    "#Penalizing function and its derivatives\n",
    "psi1 = sym.exp(z)\n",
    "d1psi1 = sym.diff(psi1, z)\n",
    "d1psi1 = sym.lambdify(z, d1psi1, modules='numpy')\n",
    "\n",
    "#Smoothing function and its derivatives\n",
    "lamb = 0.5\n",
    "psi2 = 2*lamb*sym.log(1 + z**2/lamb)\n",
    "d1psi2 = sym.diff(psi2, z)\n",
    "d2psi2 = sym.diff(d1psi2, z)\n",
    "d1psi2 = sym.lambdify(z, d1psi2, modules='numpy')\n",
    "d2psi2 = sym.lambdify(z, d2psi2, modules='numpy')"
   ]
  },
  {
   "cell_type": "code",
   "execution_count": 3,
   "metadata": {
    "collapsed": true
   },
   "outputs": [],
   "source": [
    "\"\"\"\n",
    "RBF functions and its derivatives\n",
    "\"\"\"\n",
    "def phi(x, x0, c, sig):\n",
    "    return c * np.exp(-(x-x0)**2/(2*sig**2))\n",
    "\n",
    "def phix(x, x0, c, sig):\n",
    "    return -(c/sig**2) * np.exp(-(x-x0)**2/(2*sig**2)) * (x-x0)\n",
    "\n",
    "def phixx(x, x0, c, sig):\n",
    "    return (c/sig**4) * np.exp(-(x-x0)**2/(2*sig**2)) * ((x-x0)**2 - sig**2)"
   ]
  },
  {
   "cell_type": "code",
   "execution_count": 4,
   "metadata": {
    "collapsed": true
   },
   "outputs": [],
   "source": [
    "def F(X):\n",
    "    #unpacking parameters\n",
    "    N = len(X)/2\n",
    "    c = X[0:N]\n",
    "    sig = X[N:]\n",
    "    return\n",
    "\n",
    "#wrapper function\n",
    "def F(X,t):\n",
    "    return F(X)"
   ]
  }
 ],
 "metadata": {
  "kernelspec": {
   "display_name": "Python 2",
   "language": "python",
   "name": "python2"
  },
  "language_info": {
   "codemirror_mode": {
    "name": "ipython",
    "version": 2
   },
   "file_extension": ".py",
   "mimetype": "text/x-python",
   "name": "python",
   "nbconvert_exporter": "python",
   "pygments_lexer": "ipython2",
   "version": "2.7.11"
  }
 },
 "nbformat": 4,
 "nbformat_minor": 0
}
