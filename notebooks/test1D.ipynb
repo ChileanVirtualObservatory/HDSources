{
 "cells": [
  {
   "cell_type": "code",
   "execution_count": 103,
   "metadata": {
    "collapsed": true
   },
   "outputs": [],
   "source": [
    "import numpy as np\n",
    "import scipy as sp\n",
    "import sympy as sym\n",
    "import matplotlib.pyplot as plt"
   ]
  },
  {
   "cell_type": "markdown",
   "metadata": {},
   "source": [
    "Given the following functional: \n",
    "\n",
    "$$J(u) = \\int_{\\Omega \\subset \\mathbb{R}} L(x, u, u_x) \\ dx  = \\int_{\\Omega \\subset \\mathbb{R}}(u(x)-f_0(x))^2 + \\alpha \\ \\Psi_1(u(x)-f_0(x)) + \\beta \\ \\Psi_2(|u'(x)|) \\ dx $$\n",
    "\n",
    "then when we try to minimize it, the corresponding Euler-Lagrange equation becomes:\n",
    "\n",
    "$$\\frac{\\partial L}{\\partial u}-\\frac{d}{dx}\\frac{\\partial L}{\\partial u_x} =  2(u(x)-f_0(x)) + \\alpha \\ \\Psi_1'(u(x)-f_0(x)) - \\beta \\ u_{xx}(x) \\ \\Psi_2''(|u_{x}(x)|)$$\n",
    "\n",
    "the proposed solution has the form of a linear combination of Gaussian functions:\n",
    "\n",
    "$$u(x) = \\sum_{i=1}^N c_i \\ \\phi(x; x_i, \\sigma_i) = \\sum_{i=1}^N c_i \\ e^{-\\frac{(x-x_i)^2}{2 \\sigma_i^2}}$$"
   ]
  },
  {
   "cell_type": "code",
   "execution_count": 118,
   "metadata": {
    "collapsed": false
   },
   "outputs": [],
   "source": [
    "\"\"\"\n",
    "Loading data function\n",
    "\"\"\"\n",
    "x = np.linspace(0., 1., 50, endpoint=True)\n",
    "f = np.sin(10*x)*np.cos(10*x)*np.exp(-(x-0.5)**2/10000)\n",
    "f = sp.interpolate.interp1d(x, f, kind='quadratic')"
   ]
  },
  {
   "cell_type": "code",
   "execution_count": 119,
   "metadata": {
    "collapsed": false
   },
   "outputs": [],
   "source": [
    "#setting parameters\n",
    "a = 0.1\n",
    "b = 1.\n",
    "N = 50\n",
    "\n",
    "z = sym.Symbol('z')\n",
    "\n",
    "#Penalizing function and its derivatives\n",
    "psi1 = sym.exp(z)\n",
    "d1psi1 = sym.diff(psi1, z)\n",
    "d1psi1 = sym.lambdify(z, d1psi1, modules='numpy')\n",
    "\n",
    "#Smoothing function and its derivatives\n",
    "lamb = 0.5\n",
    "psi2 = 2*lamb*sym.log(1 + z**2/lamb)\n",
    "d1psi2 = sym.diff(psi2, z)\n",
    "d2psi2 = sym.diff(d1psi2, z)\n",
    "d1psi2 = sym.lambdify(z, d1psi2, modules='numpy')\n",
    "d2psi2 = sym.lambdify(z, d2psi2, modules='numpy')"
   ]
  },
  {
   "cell_type": "code",
   "execution_count": 120,
   "metadata": {
    "collapsed": true
   },
   "outputs": [],
   "source": [
    "\"\"\"\n",
    "RBF (Gaussian) functions and its derivatives\n",
    "\"\"\"\n",
    "def phi(x, sig):\n",
    "    return np.exp(-x**2/(2*sig**2))\n",
    "\n",
    "def phix(x, sig):\n",
    "    return -(1./sig**2) * np.exp(-x**2/(2*sig**2)) * x\n",
    "\n",
    "def phixx(x, sig):\n",
    "    return (1./sig**4) * np.exp(-x**2/(2*sig**2)) * (x**2 - sig**2)"
   ]
  },
  {
   "cell_type": "code",
   "execution_count": 121,
   "metadata": {
    "collapsed": false
   },
   "outputs": [],
   "source": [
    "\"\"\" Computing collocation points \"\"\"\n",
    "xc = np.linspace(0., 1., N+1)[1::]-(1./(2.*N))\n",
    "\n",
    "\"\"\" Computing evaluation points \"\"\"\n",
    "xe = np.linspace(0., 1., 2*N, endpoint=True)\n",
    "\n",
    "\"\"\" Computing the values of f at evaluation points \"\"\"\n",
    "f0 = f(xe)\n",
    "\n",
    "\"\"\" \n",
    "Computing distance matrix.\n",
    "Note: Evaluation and collocation point will be the same\n",
    "\"\"\"\n",
    "Dx = np.empty((2*N,N))\n",
    "for k in range(2*N):\n",
    "\tDx[k,:] = (xe[k] - xc)"
   ]
  },
  {
   "cell_type": "code",
   "execution_count": 122,
   "metadata": {
    "collapsed": true
   },
   "outputs": [],
   "source": [
    "def F(X):\n",
    "    #unpacking parameters\n",
    "    N = len(X)/2\n",
    "    c = X[0:N]\n",
    "    sig = X[N:]\n",
    "    \n",
    "    #phi function's evaluation\n",
    "    phi_m   = phi(Dx, sig)\n",
    "    phix_m  = phix(Dx, sig)\n",
    "    phixx_m = phixx(Dx, sig)\n",
    "    \n",
    "    #computing the Euler-Lagrange equation\n",
    "    u   = np.dot(phi_m, c)\n",
    "    ux  = np.dot(phix_m, c)\n",
    "    uxx = np.dot(phixx_m, c)\n",
    "    return 2*(u-f0) + a*d1psi1(u-f0) - b*uxx*d2psi2(np.abs(ux))\n"
   ]
  },
  {
   "cell_type": "code",
   "execution_count": 127,
   "metadata": {
    "collapsed": false
   },
   "outputs": [],
   "source": [
    "c0 = 0.1*np.ones(50)\n",
    "sig0 = 0.01*np.ones(50)\n",
    "X = np.concatenate([c0,sig0])"
   ]
  },
  {
   "cell_type": "code",
   "execution_count": 128,
   "metadata": {
    "collapsed": false
   },
   "outputs": [
    {
     "name": "stderr",
     "output_type": "stream",
     "text": [
      "/home/martin/miniconda2/lib/python2.7/site-packages/scipy/optimize/minpack.py:161: RuntimeWarning: The iteration is not making good progress, as measured by the \n",
      "  improvement from the last five Jacobian evaluations.\n",
      "  warnings.warn(msg, RuntimeWarning)\n"
     ]
    },
    {
     "data": {
      "text/plain": [
       "array([  1.17363597e-01,   1.16546268e-01,   1.06343164e-01,\n",
       "         7.16619866e-02,   2.99204715e-02,   1.91765109e-02,\n",
       "        -1.30656719e-01,  -1.68404415e-01,  -8.58842567e-02,\n",
       "         2.56940070e-01,  -3.66855802e-01,   8.44300278e-03,\n",
       "         4.53069823e-02,   6.21377252e-02,   8.40699533e-02,\n",
       "         1.00617170e-01,   1.20085442e-01,   1.27779710e-01,\n",
       "         1.35570925e-01,   1.34201496e-01,   1.39378670e-01,\n",
       "         1.39708529e-01,   1.41633669e-01,   1.40019635e-01,\n",
       "         1.41411964e-01,   1.37527848e-01,   1.40195273e-01,\n",
       "         1.38796008e-01,   1.40279449e-01,   1.37644006e-01,\n",
       "         1.35599106e-01,   1.34996006e-01,   1.30884236e-01,\n",
       "         1.23470533e-01,   1.07304572e-01,   8.53071999e-02,\n",
       "         6.38679813e-02,   3.17774808e-02,  -1.76181033e-03,\n",
       "        -2.91623979e-02,  -2.29118400e-01,   1.14425876e-01,\n",
       "        -8.54041608e-02,  -1.20540006e-01,  -8.56673839e-05,\n",
       "         3.88223842e-02,   7.59027102e-02,   1.03843307e-01,\n",
       "         1.20869821e-01,   1.18949369e-01,   1.08802768e-02,\n",
       "         1.22601284e-02,   1.38430751e-02,   1.68629598e-02,\n",
       "         2.03581657e-02,   2.10897731e-02,   4.00153251e-02,\n",
       "         3.78981820e-02,   3.10074601e-02,   5.48739879e-02,\n",
       "         4.30523091e-02,   2.02927109e-02,   2.19246017e-02,\n",
       "         1.86292609e-02,   1.56970808e-02,   1.36180853e-02,\n",
       "         1.18642333e-02,   1.11533171e-02,   1.09347863e-02,\n",
       "         1.04896389e-02,   1.02808066e-02,   1.01198663e-02,\n",
       "         1.01720763e-02,   1.01023679e-02,   1.02025762e-02,\n",
       "         1.00862725e-02,   1.01685818e-02,   1.00841952e-02,\n",
       "         1.01747878e-02,   1.01807243e-02,   1.04879048e-02,\n",
       "         1.08604781e-02,   1.11519092e-02,   1.17307051e-02,\n",
       "         1.32034742e-02,   1.49275013e-02,   1.75326894e-02,\n",
       "         2.05632591e-02,   7.99897904e-02,   2.71622484e-02,\n",
       "         3.05121342e-02,   5.29718664e-03,   1.55569195e-02,\n",
       "         3.15770352e-02,   4.06498947e-02,   2.00648216e-02,\n",
       "         1.63530469e-02,   1.35980580e-02,   1.21007840e-02,\n",
       "         1.08255400e-02])"
      ]
     },
     "execution_count": 128,
     "metadata": {},
     "output_type": "execute_result"
    }
   ],
   "source": [
    "sp.optimize.fsolve(F, X)"
   ]
  }
 ],
 "metadata": {
  "kernelspec": {
   "display_name": "Python 2",
   "language": "python",
   "name": "python2"
  },
  "language_info": {
   "codemirror_mode": {
    "name": "ipython",
    "version": 2
   },
   "file_extension": ".py",
   "mimetype": "text/x-python",
   "name": "python",
   "nbconvert_exporter": "python",
   "pygments_lexer": "ipython2",
   "version": "2.7.11"
  }
 },
 "nbformat": 4,
 "nbformat_minor": 0
}
