{
 "cells": [
  {
   "cell_type": "code",
   "execution_count": 1,
   "metadata": {
    "collapsed": false
   },
   "outputs": [],
   "source": [
    "%matplotlib inline\n",
    "\n",
    "import sys\n",
    "import numpy as np\n",
    "import scipy as sp\n",
    "import sympy as sym\n",
    "import numexpr as ne\n",
    "import matplotlib.pyplot as plt\n",
    "from scipy import interpolate, optimize\n",
    "\n",
    "#import of acalib helper functions\n",
    "sys.path.append('../../ACALIB/')\n",
    "from acalib import acontainer as ac"
   ]
  },
  {
   "cell_type": "markdown",
   "metadata": {},
   "source": [
    "Given the following functional: \n",
    "\n",
    "$$J(u) = \\int_{\\Omega \\subset \\mathbb{R}} L(x, u, u_x) \\ dx  = \\int_{\\Omega \\subset \\mathbb{R}}(u(x)-f_0(x))^2 + \\alpha \\ \\Psi_1(u(x)-f_0(x)) + \\beta \\ \\Psi_2(|u_x(x)|) \\ dx $$\n",
    "\n",
    "then when we try to minimize it, the corresponding Euler-Lagrange equation becomes:\n",
    "\n",
    "$$\\frac{\\partial L}{\\partial u}-\\frac{d}{dx}\\frac{\\partial L}{\\partial u_x} =  2(u(x)-f_0(x)) + \\alpha \\ \\Psi_1'(u(x)-f_0(x)) - \\beta \\ u_{xx}(x) \\ \\Psi_2''(|u_{x}(x)|) = 0$$\n",
    "\n",
    "whit boundary condition $u(\\partial \\Omega) = 0$. The proposed solution has the form of a linear combination of Gaussian functions:\n",
    "\n",
    "$$u(x) = \\sum_{i=1}^N c_i \\ \\phi(x; x_i, \\sigma_i) = \\sum_{i=1}^N c_i \\ e^{-\\frac{(x-x_i)^2}{2 \\sigma_i^2}}$$"
   ]
  },
  {
   "cell_type": "code",
   "execution_count": 7,
   "metadata": {
    "collapsed": false
   },
   "outputs": [
    {
     "name": "stdout",
     "output_type": "stream",
     "text": [
      "INFO: Processing HDU 0 (Image) [acalib.io.formats]\n",
      "INFO: 4D data detected: assuming RA-DEC-FREQ-STOKES (like CASA-generated ones), and dropping STOKES [acalib.io.formats]\n"
     ]
    }
   ],
   "source": [
    "\"\"\"\n",
    "Loading data\n",
    "\"\"\"\n",
    "cont = ac.AContainer()\n",
    "#cont.load('../../bindata/fits/cubes/Antennae_North.CO3_2Line.Clean.pcal1.image.fits')\n",
    "#cont.load('../../bindata/fits/cubes/Antennae_South.CO3_2Line.Clean.pcal1.image.fits')\n",
    "#cont.load('../../bindata/fits/cubes/CenA.CO2_1Line.Clean.image.fits')\n",
    "cont.load('../../bindata/fits/cubes/M100line.image.fits')\n",
    "#cont.load('../../bindata/fits/cubes/Orion.methanol.cbc.contsub.image.fits')\n",
    "\n",
    "cube = cont.primary\n",
    "spar = cube.standarize()\n",
    "data = cube.data"
   ]
  },
  {
   "cell_type": "code",
   "execution_count": 14,
   "metadata": {
    "collapsed": false
   },
   "outputs": [],
   "source": [
    "\"\"\"\n",
    "Generating the data function\n",
    "\"\"\"\n",
    "f_data = data[:,300,300]\n",
    "x = np.linspace(0., 1., len(f_data), endpoint=True)\n",
    "f = sp.interpolate.interp1d(x, f_data, kind='linear')\n",
    "x_ = np.linspace(0., 1., 10*len(f_data), endpoint=True)"
   ]
  },
  {
   "cell_type": "code",
   "execution_count": 16,
   "metadata": {
    "collapsed": false
   },
   "outputs": [
    {
     "data": {
      "image/png": "[encoded data removed]",
      "text/plain": [
       "<matplotlib.figure.Figure at 0x7f9e02d53790>"
      ]
     },
     "metadata": {},
     "output_type": "display_data"
    }
   ],
   "source": [
    "plt.figure(figsize=(10,6))\n",
    "plt.plot(x, f_data, 'bo', x_, f(x_), 'r--')\n",
    "plt.title('Spectrum Distribution')\n",
    "plt.xlabel('Freq')\n",
    "plt.ylabel('Intensity')\n",
    "plt.show()"
   ]
  },
  {
   "cell_type": "code",
   "execution_count": 17,
   "metadata": {
    "collapsed": false
   },
   "outputs": [],
   "source": [
    "#setting parameters\n",
    "a = 0.001*0\n",
    "b = 0.1*0\n",
    "N = 3\n",
    "\n",
    "z = sym.Symbol('z')\n",
    "\n",
    "#Penalizing function and its derivatives\n",
    "psi1 = sym.exp(z)\n",
    "d1psi1 = sym.diff(psi1, z)\n",
    "d1psi1 = sym.lambdify(z, d1psi1, modules='numpy')\n",
    "\n",
    "#Smoothing function and its derivatives\n",
    "lamb = 0.5\n",
    "#psi2 = 2*lamb*sym.log(1 + z**2/lamb)\n",
    "psi2 = z**3\n",
    "d1psi2 = sym.diff(psi2, z)\n",
    "d2psi2 = sym.diff(d1psi2, z)\n",
    "d1psi2 = sym.lambdify(z, d1psi2, modules='numpy')\n",
    "d2psi2 = sym.lambdify(z, d2psi2, modules='numpy')"
   ]
  },
  {
   "cell_type": "code",
   "execution_count": 18,
   "metadata": {
    "collapsed": true
   },
   "outputs": [],
   "source": [
    "\"\"\"\n",
    "RBF (Gaussian) functions and its derivatives\n",
    "\"\"\"\n",
    "def phi(x, sig):\n",
    "    retval = ne.evaluate('exp(-x**2/(2*sig**2))')\n",
    "    #retval = np.exp(-x**2/(2*sig**2))\n",
    "    return retval\n",
    "\n",
    "def phix(x, sig):\n",
    "    retval = ne.evaluate('-(1./sig**2) * exp(-x**2/(2*sig**2)) * x')\n",
    "    #retval = -(1./sig**2) * np.exp(-x**2/(2*sig**2)) * x\n",
    "    return retval\n",
    "\n",
    "def phixx(x, sig):\n",
    "    retval = ne.evaluate('(1./sig**4) * exp(-x**2/(2*sig**2)) * (x**2 - sig**2)')\n",
    "    #retval = (1./sig**4) * np.exp(-x**2/(2*sig**2)) * (x**2 - sig**2)\n",
    "    return retval"
   ]
  },
  {
   "cell_type": "code",
   "execution_count": 19,
   "metadata": {
    "collapsed": false
   },
   "outputs": [
    {
     "name": "stdout",
     "output_type": "stream",
     "text": [
      "[ 0.16666667  0.5         0.83333333]\n",
      "[ 0.   0.2  0.4  0.6  0.8  1. ]\n"
     ]
    }
   ],
   "source": [
    "\"\"\" Computing collocation points \"\"\"\n",
    "xc = np.linspace(0., 1., N+1)[1::]-(1./(2.*N))\n",
    "print(xc)\n",
    "\n",
    "\"\"\" Computing evaluation points \"\"\"\n",
    "xe = np.linspace(0., 1., 2*N, endpoint=True)\n",
    "print(xe)\n",
    "\n",
    "\"\"\" Computing the values of f at evaluation points \"\"\"\n",
    "f0 = f(xe)\n",
    "\n",
    "\"\"\" \n",
    "Computing distance matrix.\n",
    "Note: Evaluation and collocation points will be the same\n",
    "\"\"\"\n",
    "Dx = np.empty((2*N,N))\n",
    "for k in range(2*N):\n",
    "\tDx[k,:] = (xe[k] - xc)"
   ]
  },
  {
   "cell_type": "code",
   "execution_count": 8,
   "metadata": {
    "collapsed": true
   },
   "outputs": [],
   "source": [
    "def F(X):\n",
    "    #unpacking parameters\n",
    "    N = len(X)/2\n",
    "    c = X[0:N]\n",
    "    sig = X[N:]\n",
    "    \n",
    "    #quiting borders\n",
    "    _Dx = Dx[1:-1]\n",
    "    _f0 = f0[1:-1]\n",
    "    \n",
    "    #phi function's evaluation\n",
    "    phi_m   = phi(_Dx, sig)\n",
    "    phix_m  = phix(_Dx, sig)\n",
    "    phixx_m = phixx(_Dx, sig)\n",
    "    \n",
    "    #computing the Euler-Lagrange equation\n",
    "    u   = np.dot(phi_m, c)\n",
    "    ux  = np.dot(phix_m, c)\n",
    "    uxx = np.dot(phixx_m, c)\n",
    "    el = 2.*(u-_f0) + a*d1psi1(u-_f0) - b*uxx*d2psi2(np.abs(ux))\n",
    "    \n",
    "    #evaluating at boundary\n",
    "    bc = [np.dot(phix(-xc,sig),c), np.dot(phix(1.-xc,sig),c)]\n",
    "    return 10**7*np.concatenate([el,bc])"
   ]
  },
  {
   "cell_type": "code",
   "execution_count": 9,
   "metadata": {
    "collapsed": false
   },
   "outputs": [],
   "source": [
    "\"\"\"\n",
    "Defining initial parameter values\n",
    "\"\"\"\n",
    "c0 = f(xc)/N\n",
    "sig0 = (1./(N))*np.ones(N)\n",
    "X0 = np.concatenate([c0,sig0])"
   ]
  },
  {
   "cell_type": "code",
   "execution_count": 10,
   "metadata": {
    "collapsed": false
   },
   "outputs": [
    {
     "data": {
      "image/png": "[encoded data removed]",
      "text/plain": [
       "<matplotlib.figure.Figure at 0x7f13f05a1f10>"
      ]
     },
     "metadata": {},
     "output_type": "display_data"
    }
   ],
   "source": [
    "\"\"\"\n",
    "Visualizing the 'initial' solution\n",
    "\"\"\"\n",
    "phi_m0 = phi(Dx, sig0)\n",
    "u0 = np.dot(phi_m0, c0)\n",
    "plt.figure(figsize=(10,6))\n",
    "plt.plot(xe, u0, 'ro', xe, u0, 'r--')\n",
    "plt.show()"
   ]
  },
  {
   "cell_type": "code",
   "execution_count": 11,
   "metadata": {
    "collapsed": false
   },
   "outputs": [
    {
     "name": "stdout",
     "output_type": "stream",
     "text": [
      "58\n",
      "The iteration is not making good progress, as measured by the \n",
      "  improvement from the last ten iterations.\n",
      "[-6.73263466  6.88479242  6.71789041]\n",
      "0.333333333333\n",
      "[  1.64906395e-06  -1.90958437e-06   4.37105675e-07]\n"
     ]
    }
   ],
   "source": [
    "\"\"\"\n",
    "Solve it!\n",
    "\"\"\"\n",
    "res = sp.optimize.fsolve(F, X0, full_output=True)\n",
    "X = res[0]\n",
    "c = X[0:N]\n",
    "sig = X[N:]\n",
    "#print(\"c coeficients:\"); print(c)\n",
    "#print('sigmas:'); print(sig)\n",
    "print(res[1]['nfev']); print(res[3])\n",
    "print(sig); print(1./N)\n",
    "print(c)"
   ]
  },
  {
   "cell_type": "code",
   "execution_count": 24,
   "metadata": {
    "collapsed": false
   },
   "outputs": [
    {
     "name": "stdout",
     "output_type": "stream",
     "text": [
      "(6, 3)\n",
      "(40,)\n",
      "(6,)\n"
     ]
    },
    {
     "data": {
      "image/png": "[encoded data removed]",
      "text/plain": [
       "<matplotlib.figure.Figure at 0x7f13bd57fe10>"
      ]
     },
     "metadata": {},
     "output_type": "display_data"
    },
    {
     "name": "stdout",
     "output_type": "stream",
     "text": [
      "[ 0.16666667  0.5         0.83333333]\n"
     ]
    }
   ],
   "source": [
    "\"\"\"\n",
    "Visualizing the result\n",
    "\"\"\"\n",
    "Dx_ = np.empty((40,N))\n",
    "for k in range(40):\n",
    "\tDx_[k,:] = (x[k] - xc)\n",
    "\n",
    "phi_m = phi(Dx, sig)\n",
    "u = np.dot(phi_m, c)\n",
    "plt.figure(figsize=(10,6))\n",
    "plt.plot(xe, u, 'bo', xe, u, xe, f(xe), 'r^')\n",
    "\n",
    "phi_m_ = phi(Dx_, sig)\n",
    "u_ = np.dot(phi_m_, c)\n",
    "print(phi_m.shape)\n",
    "print(x.shape)\n",
    "print(u.shape)\n",
    "plt.plot(x, u_)\n",
    "plt.show()\n",
    "print(xc)"
   ]
  },
  {
   "cell_type": "code",
   "execution_count": 13,
   "metadata": {
    "collapsed": false
   },
   "outputs": [
    {
     "data": {
      "text/plain": [
       "array([ 1.33732467, -3.2533499 ,  1.08224583,  0.82813551, -0.06019185,\n",
       "       -0.11609308])"
      ]
     },
     "execution_count": 13,
     "metadata": {},
     "output_type": "execute_result"
    }
   ],
   "source": [
    "F(X)"
   ]
  },
  {
   "cell_type": "markdown",
   "metadata": {},
   "source": [
    "- bc\n",
    "- 2 gaussianas\n",
    "- distinto solver |F|\n",
    "- well posedeness"
   ]
  }
 ],
 "metadata": {
  "kernelspec": {
   "display_name": "Python 2",
   "language": "python",
   "name": "python2"
  },
  "language_info": {
   "codemirror_mode": {
    "name": "ipython",
    "version": 2
   },
   "file_extension": ".py",
   "mimetype": "text/x-python",
   "name": "python",
   "nbconvert_exporter": "python",
   "pygments_lexer": "ipython2",
   "version": "2.7.11"
  }
 },
 "nbformat": 4,
 "nbformat_minor": 0
}
